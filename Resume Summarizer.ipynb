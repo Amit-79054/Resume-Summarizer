{
 "cells": [
  {
   "cell_type": "code",
   "execution_count": 25,
   "metadata": {},
   "outputs": [],
   "source": [
    "import spacy\n",
    "import pickle\n",
    "import random"
   ]
  },
  {
   "cell_type": "code",
   "execution_count": 37,
   "metadata": {},
   "outputs": [],
   "source": [
    "import warnings\n",
    "warnings.filterwarnings('ignore')"
   ]
  },
  {
   "cell_type": "code",
   "execution_count": 38,
   "metadata": {},
   "outputs": [],
   "source": [
    "train_data = pickle.load(open(\"train_data.pkl\",'rb'))"
   ]
  },
  {
   "cell_type": "code",
   "execution_count": 39,
   "metadata": {},
   "outputs": [
    {
     "data": {
      "text/plain": [
       "('Govardhana K Senior Software Engineer  Bengaluru, Karnataka, Karnataka - Email me on Indeed: indeed.com/r/Govardhana-K/ b2de315d95905b68  Total IT experience 5 Years 6 Months Cloud Lending Solutions INC 4 Month • Salesforce Developer Oracle 5 Years 2 Month • Core Java Developer Languages Core Java, Go Lang Oracle PL-SQL programming, Sales Force Developer with APEX.  Designations & Promotions  Willing to relocate: Anywhere  WORK EXPERIENCE  Senior Software Engineer  Cloud Lending Solutions -  Bangalore, Karnataka -  January 2018 to Present  Present  Senior Consultant  Oracle -  Bangalore, Karnataka -  November 2016 to December 2017  Staff Consultant  Oracle -  Bangalore, Karnataka -  January 2014 to October 2016  Associate Consultant  Oracle -  Bangalore, Karnataka -  November 2012 to December 2013  EDUCATION  B.E in Computer Science Engineering  Adithya Institute of Technology -  Tamil Nadu  September 2008 to June 2012  https://www.indeed.com/r/Govardhana-K/b2de315d95905b68?isid=rex-download&ikw=download-top&co=IN https://www.indeed.com/r/Govardhana-K/b2de315d95905b68?isid=rex-download&ikw=download-top&co=IN   SKILLS  APEX. (Less than 1 year), Data Structures (3 years), FLEXCUBE (5 years), Oracle (5 years), Algorithms (3 years)  LINKS  https://www.linkedin.com/in/govardhana-k-61024944/  ADDITIONAL INFORMATION  Technical Proficiency:  Languages: Core Java, Go Lang, Data Structures & Algorithms, Oracle PL-SQL programming, Sales Force with APEX. Tools: RADTool, Jdeveloper, NetBeans, Eclipse, SQL developer, PL/SQL Developer, WinSCP, Putty Web Technologies: JavaScript, XML, HTML, Webservice  Operating Systems: Linux, Windows Version control system SVN & Git-Hub Databases: Oracle Middleware: Web logic, OC4J Product FLEXCUBE: Oracle FLEXCUBE Versions 10.x, 11.x and 12.x  https://www.linkedin.com/in/govardhana-k-61024944/',\n",
       " {'entities': [(1749, 1755, 'Companies worked at'),\n",
       "   (1696, 1702, 'Companies worked at'),\n",
       "   (1417, 1423, 'Companies worked at'),\n",
       "   (1356, 1793, 'Skills'),\n",
       "   (1209, 1215, 'Companies worked at'),\n",
       "   (1136, 1248, 'Skills'),\n",
       "   (928, 932, 'Graduation Year'),\n",
       "   (858, 889, 'College Name'),\n",
       "   (821, 856, 'Degree'),\n",
       "   (787, 791, 'Graduation Year'),\n",
       "   (744, 750, 'Companies worked at'),\n",
       "   (722, 742, 'Designation'),\n",
       "   (658, 664, 'Companies worked at'),\n",
       "   (640, 656, 'Designation'),\n",
       "   (574, 580, 'Companies worked at'),\n",
       "   (555, 573, 'Designation'),\n",
       "   (470, 493, 'Companies worked at'),\n",
       "   (444, 469, 'Designation'),\n",
       "   (308, 314, 'Companies worked at'),\n",
       "   (234, 240, 'Companies worked at'),\n",
       "   (175, 198, 'Companies worked at'),\n",
       "   (93, 137, 'Email Address'),\n",
       "   (39, 48, 'Location'),\n",
       "   (13, 38, 'Designation'),\n",
       "   (0, 12, 'Name')]})"
      ]
     },
     "execution_count": 39,
     "metadata": {},
     "output_type": "execute_result"
    }
   ],
   "source": [
    "train_data[0]"
   ]
  },
  {
   "cell_type": "code",
   "execution_count": 40,
   "metadata": {},
   "outputs": [],
   "source": [
    "#load english model\n",
    "nlp=spacy.blank('en')\n",
    "\n",
    "def train_model(train_data):\n",
    "    if 'ner' not in nlp.pipe_names:\n",
    "        ner = nlp.create_pipe('ner')\n",
    "        nlp.add_pipe(ner, last=True)\n",
    "        \n",
    "    for _, annotations in train_data:\n",
    "         for ent in annotations.get('entities'):\n",
    "            ner.add_label(ent[2])\n",
    "            \n",
    "    other_pipes = [pipe for pipe in nlp.pipe_names if pipe != 'ner']\n",
    "    with nlp.disable_pipes(*other_pipes):  # only train NER\n",
    "        optimizer = nlp.begin_training()\n",
    "        for itn in range(10):\n",
    "            print(\"Statring iteration \" + str(itn))\n",
    "            random.shuffle(train_data)\n",
    "            losses = {}\n",
    "            for text, annotations in train_data:\n",
    "                try:\n",
    "                    nlp.update(\n",
    "                        [text],  # batch of texts\n",
    "                        [annotations],  # batch of annotations\n",
    "                        drop=0.2,  # dropout - make it harder to memorise data\n",
    "                        sgd=optimizer,  # callable to update weights\n",
    "                        losses=losses)\n",
    "                except Exception as e:\n",
    "                    pass\n",
    "            print(losses)\n",
    "        "
   ]
  },
  {
   "cell_type": "code",
   "execution_count": 41,
   "metadata": {
    "scrolled": false
   },
   "outputs": [
    {
     "name": "stdout",
     "output_type": "stream",
     "text": [
      "Statring iteration 0\n",
      "{'ner': 19107.76791822152}\n",
      "Statring iteration 1\n",
      "{'ner': 8565.31345030997}\n",
      "Statring iteration 2\n",
      "{'ner': 7860.703191298521}\n",
      "Statring iteration 3\n",
      "{'ner': 10871.533936969068}\n",
      "Statring iteration 4\n",
      "{'ner': 6164.458058667231}\n",
      "Statring iteration 5\n",
      "{'ner': 12085.024004278834}\n",
      "Statring iteration 6\n",
      "{'ner': 4904.531946916046}\n",
      "Statring iteration 7\n",
      "{'ner': 5324.981636412999}\n",
      "Statring iteration 8\n",
      "{'ner': 5957.713720037296}\n",
      "Statring iteration 9\n",
      "{'ner': 4566.159440337505}\n"
     ]
    }
   ],
   "source": [
    "train_model(train_data)"
   ]
  },
  {
   "cell_type": "code",
   "execution_count": 42,
   "metadata": {},
   "outputs": [],
   "source": [
    "nlp.to_disk('nlp_model')"
   ]
  },
  {
   "cell_type": "code",
   "execution_count": 43,
   "metadata": {},
   "outputs": [],
   "source": [
    "nlp_model = spacy.load('nlp_model')"
   ]
  },
  {
   "cell_type": "code",
   "execution_count": 44,
   "metadata": {},
   "outputs": [
    {
     "data": {
      "text/plain": [
       "\"Laya A Cluster HR Manager - Velammal New  Chennai, Tamil Nadu - Email me on Indeed: indeed.com/r/Laya-A/74af8dc044f3fa7f  • A competent HR Manager professional with over 10+ years of rich experience across all domains of human resource management. • Demonstrated expertise to work in sync with senior management team to integrate the human resource function within the organisation. • Carrying experience in the new line of businesses, high growth operations and restructuring. • Proven skill set in transforming &amp; harmonizing complex and obscure ideas into an easily assimilable plan. • Exemplified leading from the front, time &amp; again and inculcated a feeling of motivation and constant work towards the attainment of the firm's goal. • Adept in performance assessment, recruitment, induction process, compensation management, employee welfare planning, employee retention, employee motivation, grievance handling, time office management, team management &amp; office administration. • A proactive professional with outstanding communication, interpersonal and relationship management skills along with an ability to communicate effectively with personnel at all levels within the organisation. • Ensuring continuity as well as effective delivery of human resource functional services.  WORK EXPERIENCE  Cluster HR Manager  Velammal New -  Chennai, Tamil Nadu -  February 2017 to Present  Cluster Manager  Velammal new gen park -  February 2017 to Present  RESPONSIBILITIES TALENTACQUISITION • Enhancing the manpower plan in sync with the expansion strategies for all LOBs in order to formulate new hiring strategies. • Implementing innovative ways to engage probable candidates for future expansion. • Curbing average turnaround time of recruitment by smart measures at relatively lesser cost. • Driving campus recruitment at elite business, law and engineering colleges with an intent to hire the best of the best. • Leading internal hiring &amp; guiding manpower forms on sourcing the best talents against the vacant positions. • Strategizing human resource requirements in consultation with the various  https://www.indeed.com/r/Laya-A/74af8dc044f3fa7f?isid=rex-download&ikw=download-top&co=IN   departmental heads followed by conducting selection interviews for shortlisted candidates. • Keeping an eye on the latest hiring trends in the industry and implementing them. • Coaching team members on effectively creating assessment and interview rating sheet. • Streamlining interview processes, managing recruitment tracker, screening of resumes, reference check, background verification, document verification and closing the position post successful salary negotiation.  COMPENSATION MANAGEMENT • Devising a wage model to reach compensation goals of the organization. • Developing salary grid in sync with the organisational hierarchy to inculcate concord in the system. • Drafting, designing as well as implementing attractive incentives plan to motivate staffs across all levels in the organisation with an intent to accelerate the revenue by optimising the degree of enthusiasm nestled in the work culture. • Examining and analysing the industry to strive equilibrium among internal equity, external equity, compliance and other objectives of pay model. • Designing reward and recognition plan for sales and marketing employees as an attempt to acknowledge their efforts towards the accomplishment of the organisational goals.  Centre Head Manager HR and Admin  Kinder -  Cherthala, KERALA, IN -  November 2015 to January 2017  HR Manager  Leonine Info solutions -  June 2012 to November 2015  Process Associate@ Infosys  HR SPOC -  Bengaluru, Karnataka -  May 2011 to June 2012  Bangalore, India  EDUCATION  B.B.A in UIT  Kerala University  2008  SKILLS  HR (9 years), COMPENSATION (1 year), RECRUITMENT (1 year), DETAIL ORIENTED (Less than 1 year), DOCUMENTATION (Less than 1 year)    ADDITIONAL INFORMATION  CORE COMPETENCIES • Performance Management • Recruitment &amp; Retention • Training &amp; Development • HR Policies &amp; Procedures • Employee Exit • Confidential Record Keeping • HR Department Start-up • Event Management • On-boarding, Orientation &amp; Induction • Employee Counselling • Attendance &amp; Leave Management • Team Building and Morale building • Process Documentation • Payroll &amp; Compensation  TECHNICAL EXPERTISE • Well versed with Microsoft Office (Word, Excel &amp; Power Point) • Microsoft Project • Lotus, outlook and internet job portal applications.  PERSONAGE ELEMENTS • Analytical &amp; Critical thinking • Compliant &amp; Adaptive • Detail Oriented • Flexible • Honest &amp; Hardworking • Leadership • Logical • Versatile • Work Ethic\""
      ]
     },
     "execution_count": 44,
     "metadata": {},
     "output_type": "execute_result"
    }
   ],
   "source": [
    "train_data[0][0]"
   ]
  },
  {
   "cell_type": "code",
   "execution_count": 45,
   "metadata": {},
   "outputs": [
    {
     "name": "stdout",
     "output_type": "stream",
     "text": [
      "NAME                          -Laya A\n",
      "DESIGNATION                   -HR Manager\n",
      "LOCATION                      -Chennai\n",
      "EMAIL ADDRESS                 -indeed.com/r/Laya-A/74af8dc044f3fa7f\n",
      "COMPANIES WORKED AT           -Velammal New\n",
      "LOCATION                      -Chennai\n",
      "DEGREE                        -B.B.A in UIT\n",
      "COLLEGE NAME                  -Kerala University\n",
      "GRADUATION YEAR               -2008\n",
      "SKILLS                        -HR (9 years), COMPENSATION (1 year), RECRUITMENT (1 year), DETAIL ORIENTED (Less than 1 year), DOCUMENTATION (Less than 1 year)    ADDITIONAL INFORMATION  CORE COMPETENCIES • Performance Management • Recruitment &amp; Retention • Training &amp; Development • HR Policies &amp; Procedures • Employee Exit • Confidential Record Keeping • HR Department Start-up • Event Management • On-boarding, Orientation &amp; Induction • Employee Counselling • Attendance &amp; Leave Management • Team Building and Morale building • Process Documentation • Payroll &amp; Compensation  TECHNICAL EXPERTISE • Well versed with Microsoft Office (Word, Excel &amp; Power Point) • Microsoft Project • Lotus, outlook and internet job portal applications.  PERSONAGE ELEMENTS • Analytical &amp; Critical thinking • Compliant &amp; Adaptive • Detail Oriented • Flexible • Honest &amp; Hardworking • Leadership • Logical • Versatile • Work Ethic\n"
     ]
    }
   ],
   "source": [
    "doc=nlp_model(train_data[0][0])\n",
    "for ent in doc.ents:\n",
    "    print(f'{ent.label_.upper():{30}}-{ent.text}')"
   ]
  },
  {
   "cell_type": "code",
   "execution_count": 46,
   "metadata": {},
   "outputs": [],
   "source": [
    "import sys,fitz"
   ]
  },
  {
   "cell_type": "code",
   "execution_count": 49,
   "metadata": {},
   "outputs": [
    {
     "name": "stdout",
     "output_type": "stream",
     "text": [
      "Badal Vinod Davda  A2 10 Bhanu Apt. LBS Marg, Mulund West Mumbai 400080    +91 7666658007 | badaldavda8@gmail.com | www.linkedin.com/in/badaldavda8    OBJECTIVE:     To get an admission in the best of the universities for my Graduate Studies.    EDUCATION:    University of Mumbai, Mumbai, India  May 2016  Bachelor of Engineering in Computer Engineering, GPA 7.89/10.0      Courses: Computer Networks, Data Structure, Algorithms, Operating Systems, Distributed Systems, Object Oriented  Programming Approach    TECHNICAL SKILLS:     Programming/Scripting Languages: C, JAVA, C#, JavaScript, Shell Script, PHP, Python  Web: HTML, CSS, ASP.NET  Databases: SQL, Oracle, MySQL, mongo DB    Frameworks: .NET, NodeJS, Meteor JS, Android, Boto3  Tools: MS Office, Microsoft Visual Studio, Eclipse, MATLAB, Oracle SQL Developer, Putty, AWS Services, Android  Studio.  Operating Systems: Windows, Linux, Android, iOS    PROFESSIONAL EXPERIENCE:       Full Time:  Trainee Software Engineer, Mastek LTD, Mumbai, India  Aug 2016 – Dec 2016    •  POC Chat Bot (Using wit.ai, creating a sample bot), Machine Learning and some Android Modules.  •  Finally, was associated with “Aetna – Android Application” Project. We created Android Application from  scratch using core Android.  Cloud Support Engineer, Amazon Web Services, Bangalore, India  Dec 2016 - Present    •  My responsibilities were to respond on technical support cases raised by AWS customers.   •  I worked on Networking Services VPC, ELB, Route53, WAF, CloudWatch, CloudFormation, Elastic Container  Service, Elastic Kubernetes Service, Elastic Beanstalk, Code Suite of services.   •  Training the new hires on AWS Services.  •  Take site-wide workshops for quality control.  •  Assisting Enterprise Technical Account Managers and Solutions Architect with the solutions.    Internships:  Student Intern (RA), Software Development Cell, KJSIEIT, Mumbai, India            Jun 2015 – Nov 2015    •  Private Cloud Setup for KJSIEIT using “Open Stack – Icehouse”, an IaaS cloud management software.    •  Deployed and archived projects of various platforms onto the cloud to create institute’s project repository.  Technical Intern, Fragume.com, Mumbai, India  Apr 2014 – Jul 2014    •  Designed and developed Front-End of the website.    •  Uploaded and managed products on the E-commerce websites, generated tags for Search Engine Optimization.  Web Developer Intern, Aglastop.com, Mumbai, India                                                                           Mar 2015 – May  2015    •  Tweaking different pages of the their website as per their need    •  Creation of some modules.  Android Developer Intern, Happy2Refer.com, Mumbai, India  Jun 2015 – Oct 2015    •  Created minor modules    •  Tested the Application and worked on the backend using .NET    PROJECTS:     Parking Space Management using Image Processing and Android  August 2015 - May 2016    •  Developed a parking lot management system using the existing CCTV cameras and using image processing  algorithms like Histogram techniques and Grayscale conversion techniques to track the vacant parking space.    •  Designed an android application to redirect the parking space availability on a virtual map.          CERTIFICATIONS AND PUBLICATIONS:     Certifications:   1. Microsoft Technology Associate-Web Development Fundamentals (ASP.NET).  2. AWS Certified Cloud Practitioner  3. AWS Certified Developer – Associate  4. AWS Certified SysOps Administrator – Associate  5. AWS Certified Solutions Architect – Associate  6. AWS Certified Solutions Architect – Professional  7. AWS Certified DevOps Administrator – Professional  8. Certified Kubernetes Administrator  Paper: SMARTPARK – Intelligent Parking Application using Image Processing, IJRITCC, Vol. 3 Issue 10, Oct 2015    ACHIEVEMENTS AND AWARDS:  1.  Won 2nd place in inter college Web Mini-Project Exhibition  2.  Microsoft Student Associate 2014-15 (MSA ID – 2014/764)  3.  Technical Editor/Head of Aura 2015-16 (College Magazine).  4.  Customer Champion at AWS Q3 2017  5.  100 5 stars Award at AWS Q3 2017  6.  Customer Champion at AWS Q2 2018  \n"
     ]
    }
   ],
   "source": [
    "fname='resume_15.pdf'\n",
    "doc=fitz.open(fname)\n",
    "text=\"\"\n",
    "for page in doc:\n",
    "    text+=str(page.getText())\n",
    "tx=' '.join(text.split('\\n'))\n",
    "print(tx)"
   ]
  },
  {
   "cell_type": "code",
   "execution_count": 50,
   "metadata": {},
   "outputs": [
    {
     "name": "stdout",
     "output_type": "stream",
     "text": [
      "NAME                          -Badal Vinod\n",
      "COLLEGE NAME                  -University of Mumbai, Mumbai, India\n",
      "GRADUATION YEAR               -2016\n",
      "DEGREE                        -Bachelor of Engineering in Computer Engineering\n",
      "SKILLS                        -Take site-wide workshops for quality control.  •  Assisting Enterprise Technical Account Managers and Solutions Architect with the solutions.    Internships:  Student Intern (RA), Software Development Cell, KJSIEIT, Mumbai, India            Jun 2015 – Nov 2015    •  Private Cloud Setup for KJSIEIT using “Open Stack – Icehouse”, an IaaS cloud management software.    •  Deployed and archived projects of various platforms onto the cloud to create institute’s project repository.  Technical Intern, Fragume.com, Mumbai, India  Apr 2014 – Jul 2014    •  Designed and developed Front-End of the website.    •  Uploaded and managed products on the E-commerce websites, generated tags for Search Engine Optimization.  Web Developer Intern, Aglastop.com, Mumbai, India                                                                           Mar 2015 – May  2015    •  Tweaking different pages of the their website as per their need    •  Creation of some modules.  Android Developer Intern, Happy2Refer.com, Mumbai, India  Jun 2015 – Oct 2015    •  Created minor modules    •  Tested the Application and worked on the backend using .NET    PROJECTS:     Parking Space Management using Image Processing and Android  August 2015 - May 2016    •  Developed a parking lot management system using the existing CCTV cameras and using image processing  algorithms like Histogram techniques and Grayscale conversion techniques to track the vacant parking space.    •  Designed an android application to redirect the parking space availability on a virtual map.          CERTIFICATIONS AND PUBLICATIONS:     Certifications:   1. Microsoft Technology Associate-Web Development Fundamentals (ASP.NET).  2. AWS Certified Cloud Practitioner  3. AWS Certified Developer – Associate  4. AWS Certified SysOps Administrator – Associate  5. AWS Certified Solutions Architect – Associate  6. AWS Certified Solutions Architect – Professional  7. AWS Certified DevOps Administrator – Professional  8. Certified Kubernetes Administrator  Paper: SMARTPARK – Intelligent Parking Application using Image Processing, IJRITCC, Vol. 3 Issue 10, Oct 2015    ACHIEVEMENTS AND AWARDS:  1.  Won 2nd place in inter college Web Mini-Project Exhibition  2.  Microsoft Student Associate 2014-15 (MSA ID – 2014/764)  3.  Technical Editor/Head of Aura 2015-16 (College Magazine).  4.  Customer Champion at AWS Q3 2017  5.  100 5 stars Award at AWS Q3 2017  6.  Customer Champion at AWS Q2 2018  \n"
     ]
    }
   ],
   "source": [
    "doc=nlp_model(tx)\n",
    "for ent in doc.ents:\n",
    "    print(f'{ent.label_.upper():{30}}-{ent.text}')"
   ]
  },
  {
   "cell_type": "code",
   "execution_count": null,
   "metadata": {},
   "outputs": [],
   "source": []
  }
 ],
 "metadata": {
  "kernelspec": {
   "display_name": "Python 3",
   "language": "python",
   "name": "python3"
  },
  "language_info": {
   "codemirror_mode": {
    "name": "ipython",
    "version": 3
   },
   "file_extension": ".py",
   "mimetype": "text/x-python",
   "name": "python",
   "nbconvert_exporter": "python",
   "pygments_lexer": "ipython3",
   "version": "3.7.6"
  }
 },
 "nbformat": 4,
 "nbformat_minor": 4
}
